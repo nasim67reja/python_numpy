{
 "cells": [
  {
   "cell_type": "code",
   "execution_count": 2,
   "id": "e4838fb3",
   "metadata": {},
   "outputs": [
    {
     "name": "stdout",
     "output_type": "stream",
     "text": [
      "Closing Prices BTC: [20000 20500 21000 21500 22000 22500 23000 23500 24000 24500]\n"
     ]
    }
   ],
   "source": [
    "import numpy as np\n",
    "\n",
    "closing_prices_btc = np.array([\n",
    "    20000, 20500, 21000, 21500, 22000, 22500, 23000, 23500, 24000, 24500,])\n",
    "\n",
    "print(\"Closing Prices BTC:\", closing_prices_btc)"
   ]
  },
  {
   "cell_type": "code",
   "execution_count": 8,
   "id": "2ca0ef93",
   "metadata": {},
   "outputs": [
    {
     "name": "stdout",
     "output_type": "stream",
     "text": [
      "SMA: 23500.0\n"
     ]
    }
   ],
   "source": [
    "sma_value=input(\"Enter the number of days for SMA calculation (e.g., 5): \")\n",
    "sma_value = int(sma_value)\n",
    "sma=closing_prices_btc[-sma_value:]\n",
    "\n",
    "sma = np.mean(sma)\n",
    "print(\"SMA:\", sma)\n"
   ]
  },
  {
   "cell_type": "code",
   "execution_count": 9,
   "id": "6431fcf3",
   "metadata": {},
   "outputs": [
    {
     "name": "stdout",
     "output_type": "stream",
     "text": [
      "Returns: [2.5        2.43902439 2.38095238 2.3255814  2.27272727 2.22222222\n",
      " 2.17391304 2.12765957 2.08333333]\n"
     ]
    }
   ],
   "source": [
    "returns = (closing_prices_btc[1:] - closing_prices_btc[:-1]) / closing_prices_btc[:-1] * 100\n",
    "print(\"Returns:\", returns)"
   ]
  }
 ],
 "metadata": {
  "kernelspec": {
   "display_name": ".venv",
   "language": "python",
   "name": "python3"
  },
  "language_info": {
   "codemirror_mode": {
    "name": "ipython",
    "version": 3
   },
   "file_extension": ".py",
   "mimetype": "text/x-python",
   "name": "python",
   "nbconvert_exporter": "python",
   "pygments_lexer": "ipython3",
   "version": "3.13.1"
  }
 },
 "nbformat": 4,
 "nbformat_minor": 5
}
