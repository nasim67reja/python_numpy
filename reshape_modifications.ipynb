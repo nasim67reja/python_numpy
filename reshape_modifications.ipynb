{
 "cells": [
  {
   "cell_type": "markdown",
   "id": "fa5d91c4",
   "metadata": {},
   "source": [
    "## Reshaping"
   ]
  },
  {
   "cell_type": "code",
   "execution_count": 1,
   "id": "3af48910",
   "metadata": {},
   "outputs": [],
   "source": [
    "import numpy as np"
   ]
  },
  {
   "cell_type": "code",
   "execution_count": null,
   "id": "412d2bfc",
   "metadata": {},
   "outputs": [],
   "source": [
    "arr=np.array([1,2,3,4,5,6])\n",
    "reshape_arr=arr.reshape(2,3)\n",
    "print(reshape_arr,arr)"
   ]
  },
  {
   "cell_type": "markdown",
   "id": "ba0db568",
   "metadata": {},
   "source": [
    "## Flattening\n",
    "\n",
    "- converts multidimensional array into 1d\n",
    "- `ravel()` => view\n",
    "- `flatten()` => copy"
   ]
  },
  {
   "cell_type": "code",
   "execution_count": null,
   "id": "61795220",
   "metadata": {},
   "outputs": [],
   "source": [
    "print(reshape_arr.flatten()) # flattening the array\n",
    "print(reshape_arr.ravel()) # raveling the array"
   ]
  },
  {
   "cell_type": "markdown",
   "id": "7ff95462",
   "metadata": {},
   "source": [
    "# Modifications"
   ]
  }
 ],
 "metadata": {
  "kernelspec": {
   "display_name": ".venv",
   "language": "python",
   "name": "python3"
  },
  "language_info": {
   "codemirror_mode": {
    "name": "ipython",
    "version": 3
   },
   "file_extension": ".py",
   "mimetype": "text/x-python",
   "name": "python",
   "nbconvert_exporter": "python",
   "pygments_lexer": "ipython3",
   "version": "3.13.1"
  }
 },
 "nbformat": 4,
 "nbformat_minor": 5
}
