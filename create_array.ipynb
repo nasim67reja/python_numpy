{
 "cells": [
  {
   "cell_type": "markdown",
   "id": "a4513505",
   "metadata": {},
   "source": [
    "# Creating Arrays"
   ]
  },
  {
   "cell_type": "markdown",
   "id": "f5d3ab81",
   "metadata": {},
   "source": [
    "## using np.array()"
   ]
  },
  {
   "cell_type": "code",
   "execution_count": 1,
   "id": "dd091e7f",
   "metadata": {},
   "outputs": [
    {
     "name": "stdout",
     "output_type": "stream",
     "text": [
      "[1 2 3 4 5] [ 6  7  8  9 10]\n"
     ]
    }
   ],
   "source": [
    "import numpy as np\n",
    "\n",
    "arr=np.array([1, 2, 3, 4, 5])\n",
    "arr2=np.array([6, 7, 8, 9, 10])\n",
    "print(arr,arr2)"
   ]
  },
  {
   "cell_type": "markdown",
   "id": "8e3c89ca",
   "metadata": {},
   "source": [
    "## using np.arange()"
   ]
  },
  {
   "cell_type": "code",
   "execution_count": 2,
   "id": "d63f5568",
   "metadata": {},
   "outputs": [
    {
     "name": "stdout",
     "output_type": "stream",
     "text": [
      "[1. 3. 5. 7. 9.] [0 1 2 3 4 5 6 7 8 9]\n"
     ]
    }
   ],
   "source": [
    "## np.arange(start, stop, step, dtype=None)\n",
    "arr3=np.arange(1, 10, 2, dtype=float)\n",
    "\n",
    "bars=np.arange(10)\n",
    "print(arr3,bars)"
   ]
  },
  {
   "cell_type": "markdown",
   "id": "5b4d35b0",
   "metadata": {},
   "source": [
    "\n",
    "🔸 Use case: Labeling candles or simulating trade bars\n",
    "🔸 Why it's important: Common when running event-based backtests"
   ]
  },
  {
   "cell_type": "markdown",
   "id": "b3a94316",
   "metadata": {},
   "source": [
    "## np.linespace()"
   ]
  },
  {
   "cell_type": "code",
   "execution_count": 4,
   "id": "7106230c",
   "metadata": {},
   "outputs": [
    {
     "name": "stdout",
     "output_type": "stream",
     "text": [
      "[0.342  0.3538 0.3656 0.3774 0.3892 0.401 ]\n"
     ]
    }
   ],
   "source": [
    "## np.linespace(start, stop, num=50, endpoint=True, retstep=False, dtype=None)\n",
    "arr4=np.linspace(1, 10, num=5, endpoint=True, retstep=False, dtype=None)\n",
    "\n",
    "threshold=np.linspace(0.342,0.401,6,dtype=float)\n",
    "print(threshold)"
   ]
  },
  {
   "cell_type": "markdown",
   "id": "71e62768",
   "metadata": {},
   "source": [
    "🔸 Use case: Grid-search over thresholds or stop loss values\n",
    "🔸 Why it's important: Used in optimization and tuning models"
   ]
  },
  {
   "cell_type": "markdown",
   "id": "2602901c",
   "metadata": {},
   "source": [
    "## ✅ 4. np.zeros() / np.ones() / np.full() for Preallocation"
   ]
  },
  {
   "cell_type": "code",
   "execution_count": null,
   "id": "3a9e4a3a",
   "metadata": {},
   "outputs": [],
   "source": [
    "signals=np.zeros(100)\n",
    "positions = np.ones(100)\n",
    "risk_array = np.full(100, 0.02)\n",
    "print(signals)"
   ]
  },
  {
   "cell_type": "markdown",
   "id": "f0190fd7",
   "metadata": {},
   "source": [
    "🔸 Use case: Vectorized backtesting logic, pre-fill with neutral values\n",
    "🔸 Why it's important: Fast initialization of signals, positions, weights"
   ]
  },
  {
   "cell_type": "markdown",
   "id": "32ca4c70",
   "metadata": {},
   "source": [
    "## ✅ 5. np.random for Simulating Market Behavior"
   ]
  },
  {
   "cell_type": "code",
   "execution_count": null,
   "id": "628b2858",
   "metadata": {},
   "outputs": [],
   "source": [
    "val=np.random.rand(5)\n",
    "val2=np.random.randint(1, 10, 5)\n",
    "print(val,val2)"
   ]
  },
  {
   "cell_type": "markdown",
   "id": "bf058c94",
   "metadata": {},
   "source": [
    "🔸 Use case: Monte Carlo simulations or bootstrapping trades\n",
    "🔸 Why it's important: Strategy stress-testing, volatility modeling"
   ]
  },
  {
   "cell_type": "markdown",
   "id": "9b8cd7fa",
   "metadata": {},
   "source": [
    "## ✅ 6. np.fromiter() for Efficient Conversions"
   ]
  },
  {
   "cell_type": "code",
   "execution_count": null,
   "id": "2ac83710",
   "metadata": {},
   "outputs": [],
   "source": [
    "fro=np.fromiter((i*3 for i in range(10)), dtype=int) \n",
    "# print(fro)"
   ]
  },
  {
   "cell_type": "markdown",
   "id": "019b413a",
   "metadata": {},
   "source": [
    "## ✅ Bonus: OHLCV as Multi-dimensional Arrays"
   ]
  },
  {
   "cell_type": "code",
   "execution_count": null,
   "id": "46143796",
   "metadata": {},
   "outputs": [],
   "source": [
    "ohlcv = np.array([\n",
    "    [65200, 65400, 65100, 65300, 300],  # day 1\n",
    "    [65300, 65600, 65200, 65450, 350],  # day 2\n",
    "])\n",
    "print(ohlcv)"
   ]
  },
  {
   "cell_type": "markdown",
   "id": "1621603c",
   "metadata": {},
   "source": [
    "🔸 Use case: Slice open, high, low, close columns individually\n",
    "🔸 Why it's important: Foundation for candlestick-based strategies"
   ]
  },
  {
   "cell_type": "markdown",
   "id": "a96296a9",
   "metadata": {},
   "source": [
    "# Attributes of ndarray"
   ]
  },
  {
   "cell_type": "markdown",
   "id": "9f10006a",
   "metadata": {},
   "source": [
    "Understanding the attributes of an ndarray is essential to working with NumPy effectively. Here are the key attributes:\n",
    "\n",
    "- `ndarray.shape`: Returns a tuple representing the shape (dimensions) of the array.  \n",
    "- `ndarray.ndim`: Returns the number of dimensions (axes) of the array.  \n",
    "- `ndarray.size`: Returns the total number of elements in the array.  \n",
    "- `ndarray.dtype`: Provides the data type of the array elements.  \n",
    "- `ndarray.itemsize`: Returns the size (in bytes) of each element  "
   ]
  },
  {
   "cell_type": "code",
   "execution_count": null,
   "id": "057f57a5",
   "metadata": {},
   "outputs": [],
   "source": [
    "import numpy as np\n",
    "\n",
    "# Simulated OHLCV data for 3 candles: [Open, High, Low, Close, Volume]\n",
    "ohlcv = np.array([\n",
    "    [65200, 65400, 65100, 65300, 120],\n",
    "    [65300, 65600, 65250, 65550, 200],\n",
    "    [65500, 65800, 65400, 65700, 180]\n",
    "], dtype=np.float64)\n",
    "\n",
    "print(\"Array:\\n\", ohlcv)\n",
    "\n",
    "# Key ndarray attributes in algo trading context\n",
    "print(\"\\nShape (rows=candles, cols=features):\", ohlcv.shape)     # (3, 5)\n",
    "print(\"Number of dimensions (1D/2D):\", ohlcv.ndim)                # 2\n",
    "print(\"Total number of elements (3x5):\", ohlcv.size)              # 15\n",
    "print(\"Data type of elements:\", ohlcv.dtype)                      # float64\n",
    "print(\"Bytes per element:\", ohlcv.itemsize)                       # 8 (for float64)\n"
   ]
  },
  {
   "cell_type": "markdown",
   "id": "256d8261",
   "metadata": {},
   "source": [
    "# Practice section"
   ]
  },
  {
   "cell_type": "code",
   "execution_count": 1,
   "id": "bbe88ce2",
   "metadata": {},
   "outputs": [],
   "source": [
    "import numpy as np"
   ]
  },
  {
   "cell_type": "code",
   "execution_count": 7,
   "id": "45af6e3c",
   "metadata": {},
   "outputs": [
    {
     "name": "stdout",
     "output_type": "stream",
     "text": [
      "[1 3 5 7 9]\n"
     ]
    }
   ],
   "source": [
    "sma=np.array([10,11,10,9,12,13,12])\n",
    "sma=np.zeros((3,2))\n",
    "sma=np.full((3,2), 0.5)\n",
    "sma=np.random.rand(3,2)\n",
    "sma=np.arange(1,10,2)\n",
    "print(sma)"
   ]
  }
 ],
 "metadata": {
  "kernelspec": {
   "display_name": ".venv",
   "language": "python",
   "name": "python3"
  },
  "language_info": {
   "codemirror_mode": {
    "name": "ipython",
    "version": 3
   },
   "file_extension": ".py",
   "mimetype": "text/x-python",
   "name": "python",
   "nbconvert_exporter": "python",
   "pygments_lexer": "ipython3",
   "version": "3.13.1"
  }
 },
 "nbformat": 4,
 "nbformat_minor": 5
}
