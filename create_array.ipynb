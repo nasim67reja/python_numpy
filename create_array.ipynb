{
 "cells": [
  {
   "cell_type": "markdown",
   "id": "a4513505",
   "metadata": {},
   "source": [
    "# Creating Arrays"
   ]
  },
  {
   "cell_type": "markdown",
   "id": "f5d3ab81",
   "metadata": {},
   "source": [
    "## using np.array()"
   ]
  },
  {
   "cell_type": "code",
   "execution_count": null,
   "id": "dd091e7f",
   "metadata": {},
   "outputs": [],
   "source": [
    "import numpy as np\n",
    "\n",
    "arr=np.array([1, 2, 3, 4, 5])\n",
    "arr2=np.array([6, 7, 8, 9, 10])\n",
    "print(arr,arr2)"
   ]
  },
  {
   "cell_type": "markdown",
   "id": "8e3c89ca",
   "metadata": {},
   "source": [
    "## using np.arange()"
   ]
  },
  {
   "cell_type": "code",
   "execution_count": null,
   "id": "d63f5568",
   "metadata": {},
   "outputs": [],
   "source": [
    "## np.arange(start, stop, step, dtype=None)\n",
    "arr3=np.arange(1, 10, 2, dtype=float)\n",
    "\n",
    "bars=np.arange(10)\n",
    "print(arr3,bars)"
   ]
  },
  {
   "cell_type": "markdown",
   "id": "5b4d35b0",
   "metadata": {},
   "source": [
    "\n",
    "🔸 Use case: Labeling candles or simulating trade bars\n",
    "🔸 Why it's important: Common when running event-based backtests"
   ]
  },
  {
   "cell_type": "markdown",
   "id": "b3a94316",
   "metadata": {},
   "source": [
    "## np.linespace()"
   ]
  },
  {
   "cell_type": "code",
   "execution_count": null,
   "id": "7106230c",
   "metadata": {},
   "outputs": [],
   "source": [
    "## np.linespace(start, stop, num=50, endpoint=True, retstep=False, dtype=None)\n",
    "arr4=np.linspace(1, 10, num=5, endpoint=True, retstep=False, dtype=None)\n",
    "\n",
    "threshold=np.linspace(0.342,0.401,4,dtype=float)\n",
    "print(threshold)"
   ]
  },
  {
   "cell_type": "markdown",
   "id": "71e62768",
   "metadata": {},
   "source": [
    "🔸 Use case: Grid-search over thresholds or stop loss values\n",
    "🔸 Why it's important: Used in optimization and tuning models"
   ]
  },
  {
   "cell_type": "markdown",
   "id": "2602901c",
   "metadata": {},
   "source": [
    "## ✅ 4. np.zeros() / np.ones() / np.full() for Preallocation"
   ]
  },
  {
   "cell_type": "code",
   "execution_count": null,
   "id": "3a9e4a3a",
   "metadata": {},
   "outputs": [],
   "source": [
    "signals=np.zeros(100)\n",
    "positions = np.ones(100)\n",
    "risk_array = np.full(100, 0.02)\n",
    "print(signals)"
   ]
  },
  {
   "cell_type": "markdown",
   "id": "f0190fd7",
   "metadata": {},
   "source": [
    "🔸 Use case: Vectorized backtesting logic, pre-fill with neutral values\n",
    "🔸 Why it's important: Fast initialization of signals, positions, weights"
   ]
  },
  {
   "cell_type": "markdown",
   "id": "32ca4c70",
   "metadata": {},
   "source": [
    "## ✅ 5. np.random for Simulating Market Behavior"
   ]
  },
  {
   "cell_type": "code",
   "execution_count": null,
   "id": "628b2858",
   "metadata": {},
   "outputs": [],
   "source": [
    "val=np.random.rand(5)\n",
    "val2=np.random.randint(1, 10, 5)\n",
    "print(val,val2)"
   ]
  },
  {
   "cell_type": "markdown",
   "id": "bf058c94",
   "metadata": {},
   "source": [
    "🔸 Use case: Monte Carlo simulations or bootstrapping trades\n",
    "🔸 Why it's important: Strategy stress-testing, volatility modeling"
   ]
  },
  {
   "cell_type": "markdown",
   "id": "9b8cd7fa",
   "metadata": {},
   "source": [
    "## ✅ 6. np.fromiter() for Efficient Conversions"
   ]
  },
  {
   "cell_type": "code",
   "execution_count": null,
   "id": "2ac83710",
   "metadata": {},
   "outputs": [],
   "source": [
    "fro=np.fromiter((i*3 for i in range(10)), dtype=int) \n",
    "# print(fro)"
   ]
  },
  {
   "cell_type": "markdown",
   "id": "019b413a",
   "metadata": {},
   "source": [
    "## ✅ Bonus: OHLCV as Multi-dimensional Arrays"
   ]
  },
  {
   "cell_type": "code",
   "execution_count": null,
   "id": "46143796",
   "metadata": {},
   "outputs": [],
   "source": [
    "ohlcv = np.array([\n",
    "    [65200, 65400, 65100, 65300, 300],  # day 1\n",
    "    [65300, 65600, 65200, 65450, 350],  # day 2\n",
    "])\n",
    "print(ohlcv)"
   ]
  },
  {
   "cell_type": "markdown",
   "id": "1621603c",
   "metadata": {},
   "source": [
    "🔸 Use case: Slice open, high, low, close columns individually\n",
    "🔸 Why it's important: Foundation for candlestick-based strategies"
   ]
  }
 ],
 "metadata": {
  "kernelspec": {
   "display_name": ".venv",
   "language": "python",
   "name": "python3"
  },
  "language_info": {
   "codemirror_mode": {
    "name": "ipython",
    "version": 3
   },
   "file_extension": ".py",
   "mimetype": "text/x-python",
   "name": "python",
   "nbconvert_exporter": "python",
   "pygments_lexer": "ipython3",
   "version": "3.13.1"
  }
 },
 "nbformat": 4,
 "nbformat_minor": 5
}
