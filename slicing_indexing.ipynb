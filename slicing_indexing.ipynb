{
 "cells": [
  {
   "cell_type": "markdown",
   "id": "39a6a516",
   "metadata": {},
   "source": [
    "# Indexing"
   ]
  },
  {
   "cell_type": "code",
   "execution_count": 1,
   "id": "677bc91e",
   "metadata": {},
   "outputs": [],
   "source": [
    "import numpy as np"
   ]
  },
  {
   "cell_type": "markdown",
   "id": "f914e551",
   "metadata": {},
   "source": [
    "## Accessing Item On Array"
   ]
  },
  {
   "cell_type": "code",
   "execution_count": null,
   "id": "85e98035",
   "metadata": {},
   "outputs": [],
   "source": [
    "arr1d = np.array([1, 2, 3])\n",
    "arr2d = np.array([[1, 2, 3,4,5], [4, 5, 6,7,8], [7, 8, 9,10,11]])\n",
    "arr3d = np.array([[[1, 2, 3], [4, 5, 6]], [[7, 8, 9], [10, 11, 12]]])\n",
    "\n",
    "## 1D array accessing\n",
    "print(\"1D array:\", arr1d[0])  # Accessing the first element\n",
    "print(\"1D array:\", arr1d[1:3])  # Slicing from index 1 to 2 (exclusive of 3)\n",
    "\n",
    "## 2D array accessing\n",
    "print(\"2D array:\", arr2d[0, 1])  # Accessing the element at row 0, column 1"
   ]
  },
  {
   "cell_type": "code",
   "execution_count": null,
   "id": "ff3fe9b6",
   "metadata": {},
   "outputs": [],
   "source": [
    "## 2D array accessing\n",
    "print(\"2D array:\", arr2d[1, 1:4])  # Accessing the elements 5, 6, 7 from the second row\n",
    "print(\"2D array:\", arr2d[0:2, 1:3]) "
   ]
  },
  {
   "cell_type": "code",
   "execution_count": null,
   "id": "6b8d3b28",
   "metadata": {},
   "outputs": [],
   "source": [
    "## 3D array accessing\n",
    "print(\"3D array:\", arr3d[0, 1, 1:])  # Accessing the element at [0, 1, 2] (4th element of the second row of the first matrix)"
   ]
  },
  {
   "cell_type": "markdown",
   "id": "dab19ae2",
   "metadata": {},
   "source": [
    "## Boolean Indexing"
   ]
  },
  {
   "cell_type": "code",
   "execution_count": null,
   "id": "d48e7e6c",
   "metadata": {},
   "outputs": [],
   "source": [
    "# btc_closing_prices=np.fromiter((i+2563 for i in range(60000, 60005)), dtype=np.float64)\n",
    "# btc_closing_prices=np.arange(60000,100000,15000, dtype=int)\n",
    "btc_closing_prices=np.random.randint(60000,100000,10)\n",
    "\n",
    "print(btc_closing_prices,btc_closing_prices[(btc_closing_prices>80000) & (btc_closing_prices<90000)])  # this is boolean masking\n",
    "\n",
    "# arr4=np.linspace(1, 10, num=5, endpoint=True, retstep=False, dtype=None)\n",
    "# print(arr4)  # 1D array with 5 evenly spaced values between 1 and 10"
   ]
  },
  {
   "cell_type": "markdown",
   "id": "5732ce7c",
   "metadata": {},
   "source": [
    "- indexing\n",
    "- slicing\n",
    "- boolean masking\n",
    "- fancy indexing"
   ]
  }
 ],
 "metadata": {
  "kernelspec": {
   "display_name": ".venv",
   "language": "python",
   "name": "python3"
  },
  "language_info": {
   "codemirror_mode": {
    "name": "ipython",
    "version": 3
   },
   "file_extension": ".py",
   "mimetype": "text/x-python",
   "name": "python",
   "nbconvert_exporter": "python",
   "pygments_lexer": "ipython3",
   "version": "3.13.1"
  }
 },
 "nbformat": 4,
 "nbformat_minor": 5
}
